{
 "cells": [
  {
   "cell_type": "markdown",
   "metadata": {},
   "source": [
    "# Import bibliotek"
   ]
  },
  {
   "cell_type": "code",
   "execution_count": 46,
   "metadata": {
    "collapsed": true
   },
   "outputs": [],
   "source": [
    "from os import listdir\n",
    "from os.path import isfile, join\n",
    "import numpy as np\n",
    "import pandas as pd\n",
    "import re\n",
    "from scipy.misc import imread\n",
    "from sklearn import svm, mixture\n",
    "from sklearn.metrics import confusion_matrix"
   ]
  },
  {
   "cell_type": "markdown",
   "metadata": {},
   "source": [
    "# Wczytanie danych"
   ]
  },
  {
   "cell_type": "code",
   "execution_count": 115,
   "metadata": {
    "collapsed": true
   },
   "outputs": [],
   "source": [
    "def is_valid_image_name(image_name):\n",
    "    return re.match(r'^[iopz]_\\d+\\.jpg$', image_name)"
   ]
  },
  {
   "cell_type": "code",
   "execution_count": 116,
   "metadata": {},
   "outputs": [],
   "source": [
    "data_path = \"Dane\"\n",
    "wrong_filenames_path = \"wrong_filenames.txt\"\n",
    "wrong_sizes_path = \"wrong_sizes.txt\"\n",
    "with open(wrong_filenames_path, \"w\") as wrong_filenames:\n",
    "    with open(wrong_sizes_path, \"w\") as wrong_sizes:\n",
    "        languages = [f for f in listdir(data_path)]\n",
    "        data = []\n",
    "        for language in languages:\n",
    "            language_path = join(data_path, language)\n",
    "            image_names = [f for f in listdir(language_path) if isfile(join(language_path, f))]\n",
    "            for image_name in image_names:\n",
    "                image_path = join(language_path, image_name)\n",
    "                if is_valid_image_name(image_name):\n",
    "                    image = imread(image_path)\n",
    "                    image_shape = image.shape[:2]\n",
    "                    if image_shape != (15, 15):\n",
    "                        wrong_sizes.write(image_path + \"\\n\")\n",
    "                        continue\n",
    "                    letter, index = image_name.split(\"_\")\n",
    "                    index = index.split(\".\")[0]\n",
    "                    data.append([language, letter, index, image])\n",
    "                else:\n",
    "                    wrong_filenames.write(image_path + \"\\n\")"
   ]
  },
  {
   "cell_type": "code",
   "execution_count": 117,
   "metadata": {},
   "outputs": [
    {
     "name": "stdout",
     "output_type": "stream",
     "text": [
      "Data size: 75\n"
     ]
    }
   ],
   "source": [
    "rows_cnt = len(data)\n",
    "print(\"Data size: {}\".format(rows_cnt))\n",
    "data = np.array(data, dtype = \"object\")\n",
    "# data = np.array([np.array(row, dtype = \"object\") for row in data])\n",
    "data = pd.DataFrame(data=data, columns = [\"Language\", \"Letter\", \"Index\", \"Image\"])"
   ]
  },
  {
   "cell_type": "code",
   "execution_count": 118,
   "metadata": {},
   "outputs": [
    {
     "name": "stdout",
     "output_type": "stream",
     "text": [
      "     Language Letter Index                                              Image\n",
      "0   ormiański      z     1  [[255, 255, 254, 255, 250, 255, 250, 255, 255,...\n",
      "1   ormiański      i     1  [[252, 255, 253, 255, 252, 254, 254, 255, 253,...\n",
      "2   ormiański      i     2  [[252, 255, 252, 255, 254, 255, 247, 254, 255,...\n",
      "3   ormiański      o     2  [[254, 254, 255, 255, 255, 247, 255, 255, 253,...\n",
      "4   ormiański      o     1  [[255, 253, 253, 252, 253, 255, 253, 255, 251,...\n",
      "5   ormiański      p     3  [[254, 253, 253, 255, 253, 255, 255, 254, 250,...\n",
      "6   ormiański      z     3  [[254, 253, 253, 252, 255, 255, 253, 255, 255,...\n",
      "7   ormiański      z     2  [[254, 255, 254, 251, 254, 252, 255, 254, 249,...\n",
      "8   ormiański      i     3  [[251, 255, 255, 251, 254, 252, 252, 255, 255,...\n",
      "9   ormiański      o     3  [[251, 255, 253, 251, 255, 251, 255, 255, 254,...\n",
      "10  ormiański      p     1  [[255, 255, 252, 248, 255, 255, 250, 255, 255,...\n",
      "11  ormiański      p     2  [[254, 255, 253, 255, 252, 254, 255, 252, 255,...\n",
      "12   lacinski      o     4  [[253, 252, 255, 252, 255, 222, 188, 176, 173,...\n",
      "13   lacinski      z     1  [[254, 104, 0, 6, 13, 17, 12, 17, 14, 2, 0, 2,...\n",
      "14   lacinski      i     4  [[250, 255, 249, 255, 255, 249, 188, 197, 182,...\n",
      "15   lacinski      i     1  [[255, 251, 252, 254, 170, 124, 103, 107, 108,...\n",
      "16   lacinski      i     2  [[253, 255, 255, 253, 255, 255, 202, 219, 251,...\n",
      "17   lacinski      i     5  [[253, 255, 251, 255, 255, 247, 254, 255, 254,...\n",
      "18   lacinski      o     2  [[255, 252, 255, 238, 185, 144, 108, 121, 143,...\n",
      "19   lacinski      o     5  [[252, 255, 252, 255, 255, 250, 255, 249, 252,...\n",
      "20   lacinski      z     5  [[253, 254, 249, 255, 255, 248, 255, 251, 255,...\n",
      "21   lacinski      o     1  [[251, 255, 255, 250, 195, 135, 114, 104, 115,...\n",
      "22   lacinski      p     3  [[253, 252, 255, 198, 176, 255, 219, 168, 101,...\n",
      "23   lacinski      p     4  [[253, 245, 176, 150, 146, 94, 88, 153, 148, 1...\n",
      "24   lacinski      z     3  [[252, 255, 249, 246, 245, 235, 232, 229, 231,...\n",
      "25   lacinski      z     2  [[255, 250, 195, 167, 166, 174, 172, 171, 174,...\n",
      "26   lacinski      i     3  [[255, 251, 255, 252, 255, 251, 222, 103, 210,...\n",
      "27   lacinski      z     4  [[254, 252, 255, 207, 203, 202, 196, 205, 206,...\n",
      "28   lacinski      o     3  [[253, 254, 255, 250, 253, 248, 238, 242, 240,...\n",
      "29   lacinski      p     5  [[252, 255, 253, 251, 255, 252, 149, 47, 48, 4...\n",
      "..        ...    ...   ...                                                ...\n",
      "45  gruziński      i     4  [[255, 255, 255, 252, 244, 241, 251, 255, 254,...\n",
      "46  gruziński      i     1  [[255, 254, 253, 255, 255, 156, 165, 158, 159,...\n",
      "47  gruziński      i     2  [[251, 252, 255, 246, 255, 255, 254, 254, 254,...\n",
      "48  gruziński      o     2  [[254, 253, 255, 251, 255, 254, 255, 250, 255,...\n",
      "49  gruziński      o     1  [[255, 255, 251, 251, 255, 250, 255, 255, 255,...\n",
      "50  gruziński      p     3  [[255, 252, 255, 254, 255, 255, 253, 253, 252,...\n",
      "51  gruziński      p     4  [[255, 254, 255, 255, 251, 250, 31, 253, 252, ...\n",
      "52  gruziński      z     3  [[255, 247, 255, 251, 252, 255, 255, 255, 255,...\n",
      "53  gruziński      z     2  [[255, 251, 255, 248, 255, 253, 255, 255, 253,...\n",
      "54  gruziński      i     3  [[254, 250, 255, 253, 252, 255, 252, 255, 255,...\n",
      "55  gruziński      z     4  [[254, 253, 255, 254, 255, 255, 255, 251, 255,...\n",
      "56  gruziński      o     3  [[255, 252, 254, 255, 251, 255, 255, 255, 254,...\n",
      "57  gruziński      p     1  [[251, 255, 249, 248, 255, 253, 249, 251, 252,...\n",
      "58  gruziński      p     2  [[252, 255, 255, 254, 253, 255, 189, 190, 255,...\n",
      "59     grecki      o     4  [[255, 248, 255, 250, 255, 254, 254, 253, 254,...\n",
      "60     grecki      z     1  [[250, 255, 254, 251, 251, 255, 252, 253, 255,...\n",
      "61     grecki      i     4  [[254, 253, 251, 255, 250, 255, 110, 90, 255, ...\n",
      "62     grecki      i     1  [[255, 251, 255, 253, 254, 253, 255, 253, 255,...\n",
      "63     grecki      i     2  [[255, 255, 251, 249, 254, 253, 255, 251, 255,...\n",
      "64     grecki      o     2  [[250, 255, 248, 254, 250, 251, 251, 255, 253,...\n",
      "65     grecki      o     1  [[255, 253, 255, 255, 255, 251, 255, 253, 255,...\n",
      "66     grecki      p     3  [[255, 252, 255, 255, 253, 253, 255, 252, 251,...\n",
      "67     grecki      p     4  [[252, 255, 254, 254, 255, 254, 254, 255, 255,...\n",
      "68     grecki      z     3  [[255, 245, 255, 254, 251, 255, 253, 255, 255,...\n",
      "69     grecki      z     2  [[255, 251, 255, 254, 254, 254, 248, 249, 254,...\n",
      "70     grecki      i     3  [[255, 255, 254, 255, 250, 255, 251, 255, 253,...\n",
      "71     grecki      z     4  [[252, 254, 255, 249, 255, 251, 255, 252, 254,...\n",
      "72     grecki      o     3  [[254, 253, 255, 254, 254, 255, 255, 254, 255,...\n",
      "73     grecki      p     1  [[255, 252, 254, 255, 255, 251, 255, 254, 255,...\n",
      "74     grecki      p     2  [[254, 254, 255, 252, 255, 253, 255, 251, 250,...\n",
      "\n",
      "[75 rows x 4 columns]\n"
     ]
    }
   ],
   "source": [
    "print(data)"
   ]
  },
  {
   "cell_type": "code",
   "execution_count": 126,
   "metadata": {},
   "outputs": [
    {
     "name": "stdout",
     "output_type": "stream",
     "text": [
      "(55, 225)\n",
      "0.581818181818\n",
      "[[15  0  0  0]\n",
      " [ 0  0 10  0]\n",
      " [ 0  0 17  0]\n",
      " [ 0  0 13  0]]\n",
      "(20, 225)\n",
      "0.05\n",
      "[[0 0 5 0]\n",
      " [0 0 7 0]\n",
      " [0 0 1 0]\n",
      " [0 0 7 0]]\n"
     ]
    }
   ],
   "source": [
    "clf = svm.SVC(C = 0.55, gamma = 0.39)\n",
    "train = np.random.uniform(0, 1, rows_cnt)\n",
    "indices = np.arange(0, rows_cnt)[train <= 0.8]\n",
    "X = data[\"Image\"][indices].values\n",
    "y = data[\"Letter\"][indices].values\n",
    "X = np.concatenate(X).reshape(X.shape[0], 225)\n",
    "print(X.shape)\n",
    "clf.fit(X, y)\n",
    "print(clf.score(X, y))\n",
    "print(confusion_matrix(y, clf.predict(X)))\n",
    "indices = np.arange(0, rows_cnt)[train > 0.8]\n",
    "X = data[\"Image\"][indices].values\n",
    "y = data[\"Letter\"][indices].values\n",
    "X = np.concatenate(X).reshape(X.shape[0], 225)\n",
    "print(X.shape)\n",
    "print(clf.score(X, y))\n",
    "print(confusion_matrix(y, clf.predict(X)))"
   ]
  },
  {
   "cell_type": "code",
   "execution_count": null,
   "metadata": {
    "collapsed": true
   },
   "outputs": [],
   "source": []
  }
 ],
 "metadata": {
  "kernelspec": {
   "display_name": "Python 3",
   "language": "python",
   "name": "python3"
  },
  "language_info": {
   "codemirror_mode": {
    "name": "ipython",
    "version": 3
   },
   "file_extension": ".py",
   "mimetype": "text/x-python",
   "name": "python",
   "nbconvert_exporter": "python",
   "pygments_lexer": "ipython3",
   "version": "3.6.3"
  }
 },
 "nbformat": 4,
 "nbformat_minor": 2
}
