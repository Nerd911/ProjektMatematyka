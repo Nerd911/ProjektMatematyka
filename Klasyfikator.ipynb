{
 "cells": [
  {
   "cell_type": "markdown",
   "metadata": {},
   "source": [
    "# Import bibliotek"
   ]
  },
  {
   "cell_type": "code",
   "execution_count": 1,
   "metadata": {
    "collapsed": true
   },
   "outputs": [],
   "source": [
    "from os import listdir\n",
    "from os.path import isfile, join\n",
    "import numpy as np\n",
    "import pandas as pd\n",
    "import re\n",
    "from scipy.misc import imread\n",
    "from sklearn import svm, mixture\n",
    "from sklearn.metrics import confusion_matrix\n",
    "from sklearn.decomposition import PCA\n",
    "import ipywidgets as widgets\n",
    "from ipywidgets import interact, interactive, fixed, interact_manual"
   ]
  },
  {
   "cell_type": "markdown",
   "metadata": {},
   "source": [
    "# Wczytanie danych"
   ]
  },
  {
   "cell_type": "code",
   "execution_count": 2,
   "metadata": {
    "collapsed": true
   },
   "outputs": [],
   "source": [
    "def is_valid_image_name(image_name):\n",
    "    return re.match(r'^[iopz]_\\d+\\.jpg$', image_name)"
   ]
  },
  {
   "cell_type": "code",
   "execution_count": 3,
   "metadata": {},
   "outputs": [],
   "source": [
    "data_path = \"Dane\"\n",
    "wrong_filenames_path = \"wrong_filenames.txt\"\n",
    "wrong_sizes_path = \"wrong_sizes.txt\"\n",
    "with open(wrong_filenames_path, \"w\") as wrong_filenames:\n",
    "    with open(wrong_sizes_path, \"w\") as wrong_sizes:\n",
    "        languages = [f for f in listdir(data_path)]\n",
    "        data = []\n",
    "        for language in languages:\n",
    "            language_path = join(data_path, language)\n",
    "            image_names = [f for f in listdir(language_path) if isfile(join(language_path, f))]\n",
    "            for image_name in image_names:\n",
    "                image_path = join(language_path, image_name)\n",
    "                if is_valid_image_name(image_name):\n",
    "                    image = imread(image_path)\n",
    "                    image_shape = image.shape[:2]\n",
    "                    if image_shape != (15, 15):\n",
    "                        wrong_sizes.write(image_path + \"\\n\")\n",
    "                        continue\n",
    "                    letter, index = image_name.split(\"_\")\n",
    "                    index = index.split(\".\")[0]\n",
    "                    data.append([language, letter, index, image])\n",
    "                else:\n",
    "                    wrong_filenames.write(image_path + \"\\n\")"
   ]
  },
  {
   "cell_type": "code",
   "execution_count": 4,
   "metadata": {},
   "outputs": [
    {
     "name": "stdout",
     "output_type": "stream",
     "text": [
      "Data size: 1631\n"
     ]
    }
   ],
   "source": [
    "rows_cnt = len(data)\n",
    "print(\"Data size: {}\".format(rows_cnt))\n",
    "data = np.array(data, dtype = \"object\")\n",
    "# data = np.array([np.array(row, dtype = \"object\") for row in data])\n",
    "data = pd.DataFrame(data=data, columns = [\"Language\", \"Letter\", \"Index\", \"Image\"])"
   ]
  },
  {
   "cell_type": "code",
   "execution_count": 5,
   "metadata": {
    "scrolled": true
   },
   "outputs": [
    {
     "name": "stdout",
     "output_type": "stream",
     "text": [
      "       Language Letter Index  \\\n",
      "0     ormiański      o     4   \n",
      "1     ormiański      p    22   \n",
      "2     ormiański      z    37   \n",
      "3     ormiański      z    25   \n",
      "4     ormiański      z     8   \n",
      "5     ormiański      o    13   \n",
      "6     ormiański      p    26   \n",
      "7     ormiański      o    37   \n",
      "8     ormiański      z    20   \n",
      "9     ormiański      p    20   \n",
      "10    ormiański      z    15   \n",
      "11    ormiański      o    48   \n",
      "12    ormiański      i    31   \n",
      "13    ormiański      o    30   \n",
      "14    ormiański      z     1   \n",
      "15    ormiański      o    39   \n",
      "16    ormiański      i    48   \n",
      "17    ormiański      i    33   \n",
      "18    ormiański      i     4   \n",
      "19    ormiański      z    40   \n",
      "20    ormiański      p    27   \n",
      "21    ormiański      i     1   \n",
      "22    ormiański      i    12   \n",
      "23    ormiański      i     2   \n",
      "24    ormiański      i    17   \n",
      "25    ormiański      p    35   \n",
      "26    ormiański      p     9   \n",
      "27    ormiański      z    24   \n",
      "28    ormiański      i    51   \n",
      "29    ormiański      o    22   \n",
      "...         ...    ...   ...   \n",
      "1601     grecki      i    34   \n",
      "1602     grecki      i    24   \n",
      "1603     grecki      i    41   \n",
      "1604     grecki      z    12   \n",
      "1605     grecki      i     7   \n",
      "1606     grecki      o    34   \n",
      "1607     grecki      p    15   \n",
      "1608     grecki      p    49   \n",
      "1609     grecki      z    16   \n",
      "1610     grecki      p     1   \n",
      "1611     grecki      i    32   \n",
      "1612     grecki      i    25   \n",
      "1613     grecki      o    33   \n",
      "1614     grecki      i    42   \n",
      "1615     grecki      i    11   \n",
      "1616     grecki      i    19   \n",
      "1617     grecki      i    20   \n",
      "1618     grecki      o    24   \n",
      "1619     grecki      o    11   \n",
      "1620     grecki      p    16   \n",
      "1621     grecki      i     8   \n",
      "1622     grecki      p    39   \n",
      "1623     grecki      o    12   \n",
      "1624     grecki      z    11   \n",
      "1625     grecki      p     8   \n",
      "1626     grecki      p     2   \n",
      "1627     grecki      o     6   \n",
      "1628     grecki      z    26   \n",
      "1629     grecki      z     6   \n",
      "1630     grecki      p    32   \n",
      "\n",
      "                                                  Image  \n",
      "0     [[253, 254, 252, 254, 254, 254, 254, 255, 255,...  \n",
      "1     [[255, 253, 252, 255, 254, 242, 227, 252, 253,...  \n",
      "2     [[232, 255, 252, 255, 255, 248, 255, 254, 253,...  \n",
      "3     [[254, 253, 253, 254, 255, 249, 255, 249, 255,...  \n",
      "4     [[245, 246, 250, 146, 36, 38, 104, 224, 225, 1...  \n",
      "5     [[255, 254, 248, 255, 252, 249, 253, 254, 252,...  \n",
      "6     [[255, 246, 255, 251, 255, 251, 253, 250, 255,...  \n",
      "7     [[248, 255, 253, 255, 252, 248, 254, 254, 255,...  \n",
      "8     [[253, 255, 252, 249, 255, 255, 249, 255, 255,...  \n",
      "9     [[252, 255, 251, 255, 252, 251, 255, 254, 253,...  \n",
      "10    [[253, 255, 250, 249, 70, 69, 144, 152, 149, 2...  \n",
      "11    [[255, 255, 246, 255, 255, 255, 254, 255, 251,...  \n",
      "12    [[72, 127, 132, 128, 132, 134, 138, 130, 134, ...  \n",
      "13    [[253, 255, 254, 253, 255, 244, 249, 255, 241,...  \n",
      "14    [[244, 248, 250, 104, 36, 45, 38, 204, 61, 54,...  \n",
      "15    [[213, 247, 254, 255, 249, 255, 255, 252, 255,...  \n",
      "16    [[255, 123, 255, 253, 254, 252, 255, 251, 255,...  \n",
      "17    [[65, 133, 134, 130, 130, 137, 126, 135, 131, ...  \n",
      "18    [[255, 255, 254, 251, 126, 139, 248, 255, 255,...  \n",
      "19    [[249, 249, 231, 163, 44, 147, 203, 239, 245, ...  \n",
      "20    [[254, 254, 254, 255, 249, 252, 255, 133, 255,...  \n",
      "21    [[249, 248, 250, 245, 245, 245, 251, 248, 249,...  \n",
      "22    [[253, 251, 31, 160, 253, 255, 255, 255, 254, ...  \n",
      "23    [[251, 253, 243, 251, 250, 247, 255, 248, 251,...  \n",
      "24    [[255, 255, 197, 198, 168, 172, 251, 254, 251,...  \n",
      "25    [[255, 251, 252, 255, 251, 255, 129, 211, 255,...  \n",
      "26    [[255, 249, 255, 247, 255, 255, 254, 110, 97, ...  \n",
      "27    [[252, 255, 255, 251, 255, 252, 248, 255, 255,...  \n",
      "28    [[255, 255, 125, 130, 250, 255, 255, 251, 255,...  \n",
      "29    [[255, 249, 255, 254, 252, 253, 255, 251, 253,...  \n",
      "...                                                 ...  \n",
      "1601  [[64, 133, 129, 131, 138, 129, 135, 132, 132, ...  \n",
      "1602  [[255, 255, 254, 254, 251, 254, 255, 231, 252,...  \n",
      "1603  [[252, 252, 253, 249, 255, 253, 254, 249, 245,...  \n",
      "1604  [[227, 28, 28, 19, 23, 25, 25, 30, 32, 41, 34,...  \n",
      "1605  [[255, 249, 251, 255, 255, 163, 218, 252, 255,...  \n",
      "1606  [[68, 130, 135, 133, 132, 132, 125, 137, 136, ...  \n",
      "1607  [[255, 251, 253, 255, 233, 73, 139, 166, 116, ...  \n",
      "1608  [[254, 255, 125, 128, 205, 255, 252, 255, 251,...  \n",
      "1609  [[255, 250, 244, 156, 163, 161, 163, 169, 231,...  \n",
      "1610  [[255, 255, 253, 255, 255, 253, 254, 255, 255,...  \n",
      "1611  [[66, 131, 131, 131, 138, 133, 130, 134, 135, ...  \n",
      "1612  [[255, 253, 252, 255, 253, 250, 243, 245, 217,...  \n",
      "1613  [[66, 130, 133, 136, 126, 130, 133, 131, 129, ...  \n",
      "1614  [[254, 255, 250, 255, 250, 255, 211, 128, 167,...  \n",
      "1615  [[255, 252, 255, 255, 252, 95, 71, 217, 251, 2...  \n",
      "1616  [[254, 252, 255, 253, 252, 255, 181, 255, 255,...  \n",
      "1617  [[255, 253, 255, 252, 254, 255, 253, 254, 255,...  \n",
      "1618  [[250, 255, 254, 255, 252, 255, 255, 255, 254,...  \n",
      "1619  [[254, 255, 250, 255, 255, 82, 53, 46, 45, 57,...  \n",
      "1620  [[255, 253, 250, 255, 248, 253, 255, 202, 253,...  \n",
      "1621  [[251, 255, 252, 255, 253, 253, 139, 172, 252,...  \n",
      "1622  [[243, 132, 77, 43, 39, 77, 71, 37, 62, 86, 77...  \n",
      "1623  [[251, 253, 255, 218, 252, 87, 37, 16, 29, 29,...  \n",
      "1624  [[250, 242, 250, 202, 229, 231, 244, 243, 241,...  \n",
      "1625  [[254, 248, 243, 228, 214, 159, 54, 32, 20, 26...  \n",
      "1626  [[254, 254, 255, 252, 255, 253, 255, 251, 250,...  \n",
      "1627  [[255, 249, 229, 231, 53, 43, 39, 41, 39, 39, ...  \n",
      "1628  [[254, 255, 99, 100, 83, 73, 62, 137, 143, 219...  \n",
      "1629  [[254, 254, 255, 253, 254, 255, 253, 255, 255,...  \n",
      "1630  [[69, 131, 135, 130, 131, 139, 130, 134, 134, ...  \n",
      "\n",
      "[1631 rows x 4 columns]\n"
     ]
    }
   ],
   "source": [
    "print(data)"
   ]
  },
  {
   "cell_type": "code",
   "execution_count": 6,
   "metadata": {
    "collapsed": true
   },
   "outputs": [],
   "source": [
    "def classify(C, gamma, X, y):\n",
    "    rows_cnt = len(y)\n",
    "    clf = svm.SVC(C = 0.5, gamma = 0.2)\n",
    "    train = np.random.uniform(0, 1, rows_cnt)\n",
    "    indices = np.arange(0, rows_cnt)[train <= 0.8]\n",
    "    X_train = X[indices]\n",
    "    y_train = y[indices]\n",
    "    indices = np.arange(0, rows_cnt)[train > 0.8]\n",
    "    X_test = X[indices]\n",
    "    y_test = y[indices]\n",
    "    clf = svm.SVC(C = C, gamma = gamma)\n",
    "    clf.fit(X_train, y_train)\n",
    "    print(clf.score(X_train, y_train))\n",
    "    print(confusion_matrix(y_train, clf.predict(X_train)))\n",
    "    print(clf.score(X_test, y_test))\n",
    "    print(confusion_matrix(y_test, clf.predict(X_test)))"
   ]
  },
  {
   "cell_type": "code",
   "execution_count": 7,
   "metadata": {},
   "outputs": [
    {
     "data": {
      "application/vnd.jupyter.widget-view+json": {
       "model_id": "04bfb2f69d124ca984669eef98ca1bd0",
       "version_major": 2,
       "version_minor": 0
      },
      "text/plain": [
       "A Jupyter Widget"
      ]
     },
     "metadata": {},
     "output_type": "display_data"
    },
    {
     "data": {
      "application/vnd.jupyter.widget-view+json": {
       "model_id": "24dbaac43e4340a080b418295f1e98b0",
       "version_major": 2,
       "version_minor": 0
      },
      "text/plain": [
       "A Jupyter Widget"
      ]
     },
     "metadata": {},
     "output_type": "display_data"
    }
   ],
   "source": [
    "c_text = widgets.FloatText(\n",
    "    min=0.000001,\n",
    "    value=2.5,\n",
    "    description='C:',\n",
    "    disabled=False,\n",
    "    step = 0.001,\n",
    "    max=10.0\n",
    ")\n",
    "c_slider = widgets.FloatSlider(\n",
    "    min=0.000001,\n",
    "    description='C:',\n",
    "    step = 0.001,\n",
    "    max=10.0\n",
    ")\n",
    "gamma_text = widgets.FloatText(\n",
    "    min=0.000001,\n",
    "    value=2.5,\n",
    "    description='gamma:',\n",
    "    step = 0.001,\n",
    "    disabled=False,\n",
    "    max=10.0\n",
    ")\n",
    "gamma_slider = widgets.FloatSlider(\n",
    "    min=0.000001,\n",
    "    description='gamma:',\n",
    "    step = 0.001,\n",
    "    max=10.0\n",
    ")\n",
    "clink = widgets.jslink((c_text, 'value'), (c_slider, 'value'))\n",
    "gammalink = widgets.jslink((gamma_text, 'value'), (gamma_slider, 'value'))\n",
    "ui = widgets.HBox([widgets.VBox([c_text, c_slider]), widgets.VBox([gamma_text, gamma_slider])])\n",
    "X = data[\"Image\"].values\n",
    "X = np.concatenate(X).reshape(X.shape[0], 225)\n",
    "y = data[\"Letter\"].values\n",
    "cl = lambda C, gamma: classify(C, gamma, X, y)\n",
    "out = widgets.interactive_output(cl, {'C': c_text, 'gamma': gamma_text})\n",
    "display(ui, out)"
   ]
  },
  {
   "cell_type": "code",
   "execution_count": 8,
   "metadata": {
    "collapsed": true
   },
   "outputs": [],
   "source": [
    "def classify_with_pca(C, gamma, X, y, n):\n",
    "    pca = PCA(n_components=n)\n",
    "    pca.fit(X)\n",
    "    X_pca = pca.transform(X)\n",
    "    classify(C, gamma, X_pca, y)"
   ]
  },
  {
   "cell_type": "code",
   "execution_count": 9,
   "metadata": {
    "scrolled": true
   },
   "outputs": [
    {
     "data": {
      "application/vnd.jupyter.widget-view+json": {
       "model_id": "851985a4a13843b69d81570b3615a7a9",
       "version_major": 2,
       "version_minor": 0
      },
      "text/plain": [
       "A Jupyter Widget"
      ]
     },
     "metadata": {},
     "output_type": "display_data"
    },
    {
     "data": {
      "application/vnd.jupyter.widget-view+json": {
       "model_id": "1d03aa8b95f84a919265af7c16e1decb",
       "version_major": 2,
       "version_minor": 0
      },
      "text/plain": [
       "A Jupyter Widget"
      ]
     },
     "metadata": {},
     "output_type": "display_data"
    },
    {
     "data": {
      "application/vnd.jupyter.widget-view+json": {
       "model_id": "9701782b9d484f929b1155c49ca2bb4a",
       "version_major": 2,
       "version_minor": 0
      },
      "text/plain": [
       "A Jupyter Widget"
      ]
     },
     "metadata": {},
     "output_type": "display_data"
    }
   ],
   "source": [
    "c_text = widgets.FloatText(\n",
    "    min=0.000001,\n",
    "    value=0.6,\n",
    "    description='C:',\n",
    "    disabled=False,\n",
    "    step = 0.001,\n",
    "    max=10.0\n",
    ")\n",
    "c_slider = widgets.FloatSlider(\n",
    "    min=0.000001,\n",
    "    description='C:',\n",
    "    step = 0.001,\n",
    "    max=10.0\n",
    ")\n",
    "gamma_text = widgets.FloatText(\n",
    "    min=0.000001,\n",
    "    value=0.3,\n",
    "    description='gamma:',\n",
    "    disabled=False,\n",
    "    step = 0.001,\n",
    "    max=10.0\n",
    ")\n",
    "gamma_slider = widgets.FloatSlider(\n",
    "    min=0.000001,\n",
    "    description='gamma:',\n",
    "    step = 0.001,\n",
    "    max=10.0\n",
    ")\n",
    "n = widgets.IntText(\n",
    "    value=5,\n",
    "    description='n:',\n",
    "    disabled=False,\n",
    ")\n",
    "clink = widgets.jslink((c_text, 'value'), (c_slider, 'value'))\n",
    "gammalink = widgets.jslink((gamma_text, 'value'), (gamma_slider, 'value'))\n",
    "ui = widgets.HBox([widgets.VBox([c_text, c_slider]), widgets.VBox([gamma_text, gamma_slider])])\n",
    "cl_pca = lambda C, gamma, n: classify_with_pca(C, gamma, X, y, n)\n",
    "out = widgets.interactive_output(cl_pca, {'C': c_text, 'gamma': gamma_text, 'n' : n})\n",
    "display(ui, n, out)"
   ]
  },
  {
   "cell_type": "code",
   "execution_count": 18,
   "metadata": {},
   "outputs": [],
   "source": [
    "def cross_val_classify(C, gamma, n, data, languages):\n",
    "    X = data[\"Image\"].values\n",
    "    X = np.concatenate(X).reshape(X.shape[0], 225)\n",
    "    y = data[\"Letter\"].values \n",
    "    pca = PCA(n_components=n)\n",
    "    pca.fit(X)\n",
    "    X = pca.transform(X)\n",
    "    for language in languages:\n",
    "        training_indices = data[\"Language\"] != language \n",
    "        X_train = X[training_indices]\n",
    "        y_train = y[training_indices]\n",
    "        X_test = X[~training_indices]\n",
    "        y_test = y[~training_indices]\n",
    "        clf = svm.SVC(C = C, gamma = gamma)\n",
    "        clf.fit(X_train, y_train)\n",
    "        print(language)\n",
    "        print(clf.score(X_train, y_train))\n",
    "        print(confusion_matrix(y_train, clf.predict(X_train)))\n",
    "        print(clf.score(X_test, y_test))\n",
    "        print(confusion_matrix(y_test, clf.predict(X_test)))"
   ]
  },
  {
   "cell_type": "code",
   "execution_count": 19,
   "metadata": {
    "scrolled": false
   },
   "outputs": [
    {
     "data": {
      "application/vnd.jupyter.widget-view+json": {
       "model_id": "821d41a57f0342d8817f40afe70edd89",
       "version_major": 2,
       "version_minor": 0
      },
      "text/plain": [
       "A Jupyter Widget"
      ]
     },
     "metadata": {},
     "output_type": "display_data"
    },
    {
     "data": {
      "application/vnd.jupyter.widget-view+json": {
       "model_id": "055f34c838ac486da9aa66a74bdd2e24",
       "version_major": 2,
       "version_minor": 0
      },
      "text/plain": [
       "A Jupyter Widget"
      ]
     },
     "metadata": {},
     "output_type": "display_data"
    },
    {
     "data": {
      "application/vnd.jupyter.widget-view+json": {
       "model_id": "3235ef9ded8648c6884b8ee9f5ff19cc",
       "version_major": 2,
       "version_minor": 0
      },
      "text/plain": [
       "A Jupyter Widget"
      ]
     },
     "metadata": {},
     "output_type": "display_data"
    }
   ],
   "source": [
    "c_text = widgets.FloatText(\n",
    "    min=0.000001,\n",
    "    value=2.61,\n",
    "    description='C:',\n",
    "    disabled=False,\n",
    "    step = 0.001,\n",
    "    max=10.0\n",
    ")\n",
    "c_slider = widgets.FloatSlider(\n",
    "    min=0.000001,\n",
    "    description='C:',\n",
    "    step = 0.001,\n",
    "    max=10.0\n",
    ")\n",
    "gamma_text = widgets.FloatText(\n",
    "    min=0.000001,\n",
    "    value=0.000001,\n",
    "    description='gamma:',\n",
    "    disabled=False,\n",
    "    step = 0.001,\n",
    "    max=10.0\n",
    ")\n",
    "gamma_slider = widgets.FloatSlider(\n",
    "    min=0.000001,\n",
    "    description='gamma:',\n",
    "    step = 0.001,\n",
    "    max=10.0\n",
    ")\n",
    "n = widgets.IntText(\n",
    "    value=7,\n",
    "    description='n:',\n",
    "    disabled=False,\n",
    ")\n",
    "clink = widgets.jslink((c_text, 'value'), (c_slider, 'value'))\n",
    "gammalink = widgets.jslink((gamma_text, 'value'), (gamma_slider, 'value'))\n",
    "ui = widgets.HBox([widgets.VBox([c_text, c_slider]), widgets.VBox([gamma_text, gamma_slider])])\n",
    "cl_cross_val_pca = lambda C, gamma, n: cross_val_classify(C, gamma, n, data, languages)\n",
    "out = widgets.interactive_output(cl_cross_val_pca, {'C': c_text, 'gamma': gamma_text, 'n' : n})\n",
    "display(ui, n, out)"
   ]
  }
 ],
 "metadata": {
  "kernelspec": {
   "display_name": "Python 3",
   "language": "python",
   "name": "python3"
  },
  "language_info": {
   "codemirror_mode": {
    "name": "ipython",
    "version": 3
   },
   "file_extension": ".py",
   "mimetype": "text/x-python",
   "name": "python",
   "nbconvert_exporter": "python",
   "pygments_lexer": "ipython3",
   "version": "3.6.3"
  }
 },
 "nbformat": 4,
 "nbformat_minor": 2
}
